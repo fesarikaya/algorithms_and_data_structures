{
 "cells": [
  {
   "cell_type": "markdown",
   "metadata": {},
   "source": [
    "## Algorithms\n",
    "An algorithm is a set of steps for solving a problem or accomplishing some task. It's like a recipe: you have precise instructions on how to do something, either something as simple as an everyday task or something as complicated as a computational process. <br /><br />\n",
    "<b>Problem</b>: Find the sum of all even numbers in a given list of integers."
   ]
  },
  {
   "cell_type": "code",
   "execution_count": 1,
   "metadata": {},
   "outputs": [],
   "source": [
    "def sum_even_numbers(numbers):\n",
    "    total = 0\n",
    "    for num in numbers:\n",
    "        if num % 2 == 0:\n",
    "            total += num\n",
    "    return total"
   ]
  },
  {
   "cell_type": "code",
   "execution_count": 2,
   "metadata": {},
   "outputs": [
    {
     "name": "stdout",
     "output_type": "stream",
     "text": [
      "The sum of even numbers is: 30\n"
     ]
    }
   ],
   "source": [
    "number_list = [1, 2, 3, 4, 5, 6, 7, 8, 9, 10]\n",
    "result = sum_even_numbers(number_list)\n",
    "print(f\"The sum of even numbers is: {result}\")"
   ]
  },
  {
   "cell_type": "markdown",
   "metadata": {},
   "source": [
    "## Complexity\n",
    "Algorithms are a systematic procedure designed for problem solving, or to perform a certain task. There are some very well known problems, like sorting a list of numbers from smallest to largest. These problems are often prominent, and thanks to that, they have well known algorithms with particular names.\n",
    "<br /><br />\n",
    "Let me give you an example of that, for example, sorting an array of numbers in ascending order (from smallest to largest) is typically solved with sorting algorithms. In fact, the various sorting algorithms have their own approach and characteristics :) Two common examples are:\n",
    "<ul>\n",
    "    <li>Bubble Sort</li>\n",
    "    <li>Selection Sort</li>\n",
    "</ul>\n",
    "Now, let's consider a question: If we have to sort a list of number from smallest to largest, which and over all algorithm should we utilize, Selection Sort or Bubble Sort? To answer that, we will need to understand what the algorithm efficiency or complexity is.\n",
    "<br /><br />\n",
    "A general measure of complexity for algorithms are time complexity (how long do they take to run) and space complexity (how much memory do they use). These complexities are often expressed using <b>Big-O notation</b>.\n",
    "<br /><br />\n",
    "Let's look at a real-world example to illustrate this concept:\n",
    "<br />\n",
    "Let’s say our formula gives us the sum of squares of numbers from 1 to n. This can be for example, n = 3 so that sum would be $1^{2} + 2^{2} + 3^{2} = 14$.\n",
    "<br /><br />\n",
    "Method 1 (Iterative):"
   ]
  },
  {
   "cell_type": "code",
   "execution_count": 3,
   "metadata": {},
   "outputs": [],
   "source": [
    "def sum_of_squares_iterative(n):\n",
    "    total = 0\n",
    "    for i in range(1, n+1):\n",
    "        total += i**2\n",
    "    return total"
   ]
  },
  {
   "cell_type": "code",
   "execution_count": 4,
   "metadata": {},
   "outputs": [
    {
     "data": {
      "text/plain": [
       "14"
      ]
     },
     "execution_count": 4,
     "metadata": {},
     "output_type": "execute_result"
    }
   ],
   "source": [
    "sum_of_squares_iterative(3)"
   ]
  },
  {
   "cell_type": "markdown",
   "metadata": {},
   "source": [
    "Method 2 (Mathematical formula):"
   ]
  },
  {
   "cell_type": "code",
   "execution_count": 5,
   "metadata": {},
   "outputs": [],
   "source": [
    "def sum_of_squares_formula(n):\n",
    "    return (n * (n + 1) * (2*n + 1)) // 6"
   ]
  },
  {
   "cell_type": "code",
   "execution_count": 6,
   "metadata": {},
   "outputs": [
    {
     "data": {
      "text/plain": [
       "14"
      ]
     },
     "execution_count": 6,
     "metadata": {},
     "output_type": "execute_result"
    }
   ],
   "source": [
    "sum_of_squares_formula(3)"
   ]
  },
  {
   "cell_type": "markdown",
   "metadata": {},
   "source": [
    "Both methods produce the correct result, but their efficiencies differ:"
   ]
  },
  {
   "cell_type": "code",
   "execution_count": 7,
   "metadata": {},
   "outputs": [
    {
     "name": "stdout",
     "output_type": "stream",
     "text": [
      "766 ns ± 1.85 ns per loop (mean ± std. dev. of 7 runs, 1000000 loops each)\n"
     ]
    }
   ],
   "source": [
    "%timeit sum_of_squares_iterative(3)"
   ]
  },
  {
   "cell_type": "code",
   "execution_count": 8,
   "metadata": {},
   "outputs": [
    {
     "name": "stdout",
     "output_type": "stream",
     "text": [
      "126 ns ± 1.19 ns per loop (mean ± std. dev. of 7 runs, 10000000 loops each)\n"
     ]
    }
   ],
   "source": [
    "%timeit sum_of_squares_formula(3)"
   ]
  },
  {
   "cell_type": "markdown",
   "metadata": {},
   "source": [
    "<ul>\n",
    "    <li>The iterative method has a time complexity of O(n), as it performs n iterations.</li>\n",
    "    <li>The formula method has a time complexity of O(1), as it performs a constant number of operations regardless of n.</li>\n",
    "</ul>"
   ]
  },
  {
   "cell_type": "markdown",
   "metadata": {},
   "source": [
    "Here, the formula method is more efficient, especially for large values of n.\n",
    "<br /><br />\n",
    "Similarly, when choosing between Bubble Sort and Selection Sort:\n",
    "<br />\n",
    "Bubble sort takes $O(n^{2})$ average, $O(n^{2})$ worst time complexity.<br />\n",
    "In the same way, Selection Sort has a runtime of $O(n^{2})$ in regardless of what case.\n",
    "<br /><br />\n",
    "But in reality, Selection Sort tends to do fewer swaps than Bubble Sort and can sometimes be a bit more efficient too.\n",
    "<br /><br />\n",
    "The <b>better</b> sorting algorithm turns out to be dependent on the requirements of your situation, and sometimes that means size of data or initial order of data, available memory, and how much stability is important in sorting. However, for very large datasets, the more advanced algorithms such as Quick Sort or Merge Sort (having a complexity of $O(n * log   n)$ would be preferred over both Bubble and Selection Sort.\n",
    "<br /><br />\n",
    "By understanding algorithm complexity, developers are able to make informed decisions regarding which algorithm to use in specific situations (trade-off of speed, memory usage, and code simplicity)."
   ]
  },
  {
   "cell_type": "markdown",
   "metadata": {},
   "source": [
    "## Big-O Notation"
   ]
  },
  {
   "cell_type": "markdown",
   "metadata": {},
   "source": [
    "When comparing two algorithms, compare them based on their runtime!\n",
    "<ul>\n",
    "    <li>The Big-O concept expresses the growth of a function.</li>\n",
    "    <li>We want to compare how the runtime grows.</li>\n",
    "    <li>Big-O analysis is also called asymptotic analysis.</li>\n",
    "    <li>Some Big-O functions, where n = input size</li>\n",
    "</ul>\n",
    "\n",
    "Big-O notation is a mathematical notation used in computer science to describe the performance or complexity of an algorithm. It specifically describes the worst-case scenario, or the maximum time an algorithm will take to complete as the input size grows.\n",
    "<br /><br />\n",
    "Big-O notation is used to say something like ‘the order of the function ‘ such that we know the growth rate of the algorithm’s runtime or space as a function of the input size. We are then able to compare algorithms in terms of their scalability as opposed to performance on a given input."
   ]
  },
  {
   "cell_type": "markdown",
   "metadata": {},
   "source": [
    "Here's a brief table showing common Big-O notations, ordered from fastest (most efficient) to slowest (least efficient):\n",
    "<table>\n",
    "    <tr>\n",
    "        <td width=\"100\">Notation</td>\n",
    "        <td width=\"100\">Name</td>\n",
    "        <td width=\"400\">Description</td>\n",
    "    </tr>\n",
    "    <tr>\n",
    "        <td>$O(1)$</td>\n",
    "        <td>Constant</td>\n",
    "        <td>Execution time stays the same regardless of input size</td>\n",
    "    </tr>\n",
    "    <tr>\n",
    "        <td>$O(log n)$</td>\n",
    "        <td>Logarithmic</td>\n",
    "        <td>Execution time increases logarithmically with input size</td>\n",
    "    </tr>\n",
    "    <tr>\n",
    "        <td>$O(n)$</td>\n",
    "        <td>Linear</td>\n",
    "        <td>Execution time increases linearly with input size</td>\n",
    "    </tr>\n",
    "    <tr>\n",
    "        <td>$O(n log n)$</td>\n",
    "        <td>Linearithmic</td>\n",
    "        <td>Common in efficient sorting algorithms like Merge Sort</td>\n",
    "    </tr>\n",
    "    <tr>\n",
    "        <td>$O(n^{2})$</td>\n",
    "        <td>Quadratic</td>\n",
    "        <td>Execution time is proportional to the square of the input size</td>\n",
    "    </tr>\n",
    "    <tr>\n",
    "        <td>$O(2^{n})$</td>\n",
    "        <td>Exponential</td>\n",
    "        <td>Execution time doubles with each addition to the input size</td>\n",
    "    </tr>\n",
    "    <tr>\n",
    "        <td>$O(n!)$</td>\n",
    "        <td>Factorial</td>\n",
    "        <td>Execution time grows factorially with input size</td>\n",
    "    </tr>\n",
    "</table>\n",
    "Understanding these notations helps developers choose the most appropriate algorithms for their specific use cases, especially when dealing with large datasets where efficiency becomes crucial."
   ]
  },
  {
   "cell_type": "code",
   "execution_count": 19,
   "metadata": {},
   "outputs": [
    {
     "data": {
      "image/png": "[encoded data removed]",
      "text/plain": [
       "<Figure size 1600x1200 with 1 Axes>"
      ]
     },
     "metadata": {},
     "output_type": "display_data"
    }
   ],
   "source": [
    "import numpy as np\n",
    "import matplotlib.pyplot as plt\n",
    "\n",
    "def O_1(n):\n",
    "    return np.ones_like(n)\n",
    "\n",
    "def O_log_n(n):\n",
    "    return np.log2(n)\n",
    "\n",
    "def O_n(n):\n",
    "    return n\n",
    "\n",
    "def O_n_log_n(n):\n",
    "    return n * np.log2(n)\n",
    "\n",
    "def O_n_squared(n):\n",
    "    return n**2\n",
    "\n",
    "def O_2_to_n(n):\n",
    "    return 2**n\n",
    "\n",
    "def O_factorial(n):\n",
    "    return np.array([np.math.factorial(int(i)) for i in n])\n",
    "\n",
    "# Generate input values\n",
    "n = np.linspace(1, 10, 1000)\n",
    "\n",
    "# Create the plot\n",
    "fig, ax = plt.subplots(figsize=(16, 12))\n",
    "\n",
    "ax.plot(n, O_1(n), label='O(1)')\n",
    "ax.plot(n, O_log_n(n), label='O(log n)')\n",
    "ax.plot(n, O_n(n), label='O(n)')\n",
    "ax.plot(n, O_n_log_n(n), label='O(n log n)')\n",
    "ax.plot(n, O_n_squared(n), label='O(n^2)')\n",
    "ax.plot(n, O_2_to_n(n), label='O(2^n)')\n",
    "ax.plot(n, O_factorial(n), label='O(n!)')\n",
    "\n",
    "ax.set_xlabel('Input Size (n)', fontsize=14)\n",
    "ax.set_ylabel('Time (or Operations)', fontsize=14)\n",
    "ax.set_title('Big-O Notation Complexity Comparison', fontsize=18)\n",
    "ax.legend(fontsize=12, loc='upper left')\n",
    "ax.set_yscale('log')\n",
    "ax.grid(True)\n",
    "\n",
    "# Add text annotations\n",
    "ax.text(10.5, 1e0, 'Faster', rotation=90, verticalalignment='center', fontsize=14)\n",
    "ax.text(10.5, 1e6, 'Slower', rotation=90, verticalalignment='center', fontsize=14)\n",
    "ax.annotate('', xy=(10, 1e1), xytext=(10, 1e5), arrowprops=dict(arrowstyle='<-', color='gray'))\n",
    "ax.annotate('', xy=(10, 1e20), xytext=(10, 1e15), arrowprops=dict(arrowstyle='<-', color='gray'))\n",
    "\n",
    "# Adjust subplot parameters\n",
    "plt.subplots_adjust(left=0.1, right=0.95, top=0.95, bottom=0.1)\n",
    "\n",
    "plt.show()"
   ]
  },
  {
   "cell_type": "markdown",
   "metadata": {},
   "source": [
    "<a id=\"4\"></a> <br>\n",
    "## Big O | Omega | Theta"
   ]
  },
  {
   "cell_type": "markdown",
   "metadata": {},
   "source": [
    "<b>Big-O ($O$) Notation</b>:\n",
    "<ul>\n",
    "    <li>Represents the upper bound or worst-case scenario.</li>\n",
    "    <li>Describes the maximum growth rate of an algorithm's time or space complexity.</li>\n",
    "    <li>Example: <b>$O(n^{2})$</b> means the algorithm will not grow faster than <b>$n^{2}$</b>.</li>\n",
    "</ul>\n",
    "\n",
    "<b>Omega ($Ω$) Notation</b>:\n",
    "<ul>\n",
    "    <li>Represents the lower bound or best-case scenario.</li>\n",
    "    <li>Describes the minimum growth rate of an algorithm's time or space complexity.</li>\n",
    "    <li>Example: <b>Ω(n)</b> means the algorithm will grow at least as fast as <b>n</b>.</li>\n",
    "</ul>\n",
    "\n",
    "<b>Theta ($Θ$) Notation</b>:\n",
    "<ul>\n",
    "    <li>Represents both upper and lower bounds.</li>\n",
    "    <li>Used when the growth rate is the same for both best and worst cases.</li>\n",
    "    <li>Example: <b>Θ(n log n)</b> means the algorithm grows exactly at the rate of <b>n log n</b>.</li>\n",
    "</ul>\n",
    "\n",
    "In summary:\n",
    "<ul>\n",
    "    <li>Big-O: \"At most\"</li>\n",
    "    <li>Omega: \"At least\"</li>\n",
    "    <li>Theta: \"Exactly\"</li>\n",
    "</ul>\n",
    "These notations help compare algorithms' efficiency and scalability, especially for large inputs, without getting bogged down in specific implementation details or constant factors."
   ]
  },
  {
   "cell_type": "markdown",
   "metadata": {},
   "source": [
    "## Example of Big-O"
   ]
  },
  {
   "cell_type": "markdown",
   "metadata": {},
   "source": [
    "### O(1) - Constant Time:"
   ]
  },
  {
   "cell_type": "code",
   "execution_count": 20,
   "metadata": {},
   "outputs": [
    {
     "name": "stdout",
     "output_type": "stream",
     "text": [
      "First element of [1, 2, 3, 4, 5]: 1\n",
      "First element of [10, 20, 30, 40, 50, 60, 70, 80, 90, 100]: 10\n"
     ]
    }
   ],
   "source": [
    "def get_first_element(arr):\n",
    "    return arr[0] if arr else None\n",
    "\n",
    "def demo_constant_time():\n",
    "    arr1 = [1, 2, 3, 4, 5]\n",
    "    arr2 = [10, 20, 30, 40, 50, 60, 70, 80, 90, 100]\n",
    "    print(f\"First element of {arr1}: {get_first_element(arr1)}\")\n",
    "    print(f\"First element of {arr2}: {get_first_element(arr2)}\")\n",
    "\n",
    "demo_constant_time()"
   ]
  },
  {
   "cell_type": "markdown",
   "metadata": {},
   "source": [
    "This function always performs the same operation regardless of input size, making it constant time."
   ]
  },
  {
   "cell_type": "markdown",
   "metadata": {},
   "source": [
    "### O(log n) - Logarithmic Time"
   ]
  },
  {
   "cell_type": "code",
   "execution_count": 21,
   "metadata": {},
   "outputs": [
    {
     "name": "stdout",
     "output_type": "stream",
     "text": [
      "Index of 7 in [1, 3, 5, 7, 9, 11, 13, 15, 17, 19]: 3\n",
      "Index of 12 in [1, 3, 5, 7, 9, 11, 13, 15, 17, 19]: -1\n"
     ]
    }
   ],
   "source": [
    "def binary_search(arr, target):\n",
    "    left, right = 0, len(arr) - 1\n",
    "    while left <= right:\n",
    "        mid = (left + right) // 2\n",
    "        if arr[mid] == target:\n",
    "            return mid\n",
    "        elif arr[mid] < target:\n",
    "            left = mid + 1\n",
    "        else:\n",
    "            right = mid - 1\n",
    "    return -1\n",
    "\n",
    "def demo_logarithmic_time():\n",
    "    arr = [1, 3, 5, 7, 9, 11, 13, 15, 17, 19]\n",
    "    target1, target2 = 7, 12\n",
    "    print(f\"Index of {target1} in {arr}: {binary_search(arr, target1)}\")\n",
    "    print(f\"Index of {target2} in {arr}: {binary_search(arr, target2)}\")\n",
    "\n",
    "demo_logarithmic_time()"
   ]
  },
  {
   "cell_type": "markdown",
   "metadata": {},
   "source": [
    "Binary search halves the search space in each iteration, resulting in logarithmic time complexity."
   ]
  },
  {
   "cell_type": "markdown",
   "metadata": {},
   "source": [
    "### O(n) - Linear Time"
   ]
  },
  {
   "cell_type": "code",
   "execution_count": 22,
   "metadata": {},
   "outputs": [
    {
     "name": "stdout",
     "output_type": "stream",
     "text": [
      "Max value in [1, 5, 3, 9, 2]: 9\n",
      "Max value in [10, 50, 30, 90, 20, 80, 40]: 90\n"
     ]
    }
   ],
   "source": [
    "def find_max(arr):\n",
    "    if not arr:\n",
    "        return None\n",
    "    max_val = arr[0]\n",
    "    for num in arr:\n",
    "        if num > max_val:\n",
    "            max_val = num\n",
    "    return max_val\n",
    "\n",
    "def demo_linear_time():\n",
    "    arr1 = [1, 5, 3, 9, 2]\n",
    "    arr2 = [10, 50, 30, 90, 20, 80, 40]\n",
    "    print(f\"Max value in {arr1}: {find_max(arr1)}\")\n",
    "    print(f\"Max value in {arr2}: {find_max(arr2)}\")\n",
    "\n",
    "demo_linear_time()"
   ]
  },
  {
   "cell_type": "markdown",
   "metadata": {},
   "source": [
    "This function iterates through each element once, scaling linearly with input size."
   ]
  },
  {
   "cell_type": "markdown",
   "metadata": {},
   "source": [
    "### O(n log n) - Linearithmic Time"
   ]
  },
  {
   "cell_type": "code",
   "execution_count": 23,
   "metadata": {},
   "outputs": [
    {
     "name": "stdout",
     "output_type": "stream",
     "text": [
      "Sorted [64, 34, 25, 12, 22, 11, 90]: [11, 12, 22, 25, 34, 64, 90]\n",
      "Sorted [5, 2, 9, 1, 7, 6, 3]: [1, 2, 3, 5, 6, 7, 9]\n"
     ]
    }
   ],
   "source": [
    "def merge_sort(arr):\n",
    "    if len(arr) <= 1:\n",
    "        return arr\n",
    "    mid = len(arr) // 2\n",
    "    left = merge_sort(arr[:mid])\n",
    "    right = merge_sort(arr[mid:])\n",
    "    return merge(left, right)\n",
    "\n",
    "def merge(left, right):\n",
    "    result = []\n",
    "    i, j = 0, 0\n",
    "    while i < len(left) and j < len(right):\n",
    "        if left[i] <= right[j]:\n",
    "            result.append(left[i])\n",
    "            i += 1\n",
    "        else:\n",
    "            result.append(right[j])\n",
    "            j += 1\n",
    "    result.extend(left[i:])\n",
    "    result.extend(right[j:])\n",
    "    return result\n",
    "\n",
    "def demo_linearithmic_time():\n",
    "    arr1 = [64, 34, 25, 12, 22, 11, 90]\n",
    "    arr2 = [5, 2, 9, 1, 7, 6, 3]\n",
    "    print(f\"Sorted {arr1}: {merge_sort(arr1)}\")\n",
    "    print(f\"Sorted {arr2}: {merge_sort(arr2)}\")\n",
    "\n",
    "demo_linearithmic_time()"
   ]
  },
  {
   "cell_type": "markdown",
   "metadata": {},
   "source": [
    "Merge sort divides the array log n times and performs linear-time merging at each level."
   ]
  },
  {
   "cell_type": "markdown",
   "metadata": {},
   "source": [
    "### O($n^{2}$) - Quadratic Time"
   ]
  },
  {
   "cell_type": "code",
   "execution_count": 24,
   "metadata": {},
   "outputs": [
    {
     "name": "stdout",
     "output_type": "stream",
     "text": [
      "Sorted [64, 34, 25, 12, 22, 11, 90]: [11, 12, 22, 25, 34, 64, 90]\n",
      "Sorted [5, 2, 9, 1, 7, 6, 3]: [1, 2, 3, 5, 6, 7, 9]\n"
     ]
    }
   ],
   "source": [
    "def bubble_sort(arr):\n",
    "    n = len(arr)\n",
    "    for i in range(n):\n",
    "        for j in range(0, n - i - 1):\n",
    "            if arr[j] > arr[j + 1]:\n",
    "                arr[j], arr[j + 1] = arr[j + 1], arr[j]\n",
    "    return arr\n",
    "\n",
    "def demo_quadratic_time():\n",
    "    arr1 = [64, 34, 25, 12, 22, 11, 90]\n",
    "    arr2 = [5, 2, 9, 1, 7, 6, 3]\n",
    "    print(f\"Sorted {arr1}: {bubble_sort(arr1.copy())}\")\n",
    "    print(f\"Sorted {arr2}: {bubble_sort(arr2.copy())}\")\n",
    "\n",
    "demo_quadratic_time()"
   ]
  },
  {
   "cell_type": "markdown",
   "metadata": {},
   "source": [
    "Bubble sort uses nested loops, comparing each element with every other element, resulting in quadratic time complexity."
   ]
  },
  {
   "cell_type": "markdown",
   "metadata": {},
   "source": [
    "### O($2^{n}$) - Exponential Time"
   ]
  },
  {
   "cell_type": "code",
   "execution_count": 25,
   "metadata": {},
   "outputs": [
    {
     "name": "stdout",
     "output_type": "stream",
     "text": [
      "Fibonacci(0) = 0\n",
      "Fibonacci(1) = 1\n",
      "Fibonacci(2) = 1\n",
      "Fibonacci(3) = 2\n",
      "Fibonacci(4) = 3\n",
      "Fibonacci(5) = 5\n",
      "Fibonacci(6) = 8\n",
      "Fibonacci(7) = 13\n",
      "Fibonacci(8) = 21\n",
      "Fibonacci(9) = 34\n"
     ]
    }
   ],
   "source": [
    "def fibonacci(n):\n",
    "    if n <= 1:\n",
    "        return n\n",
    "    return fibonacci(n-1) + fibonacci(n-2)\n",
    "\n",
    "def demo_exponential_time():\n",
    "    for n in range(10):\n",
    "        print(f\"Fibonacci({n}) = {fibonacci(n)}\")\n",
    "\n",
    "demo_exponential_time()"
   ]
  },
  {
   "cell_type": "markdown",
   "metadata": {},
   "source": [
    "This naive recursive Fibonacci implementation makes two recursive calls for each number, leading to exponential time complexity."
   ]
  },
  {
   "cell_type": "markdown",
   "metadata": {},
   "source": [
    "### O(n!) - Factorial Time"
   ]
  },
  {
   "cell_type": "code",
   "execution_count": 26,
   "metadata": {},
   "outputs": [
    {
     "name": "stdout",
     "output_type": "stream",
     "text": [
      "Permutations of [1, 2, 3]:\n",
      "[1, 2, 3]\n",
      "[1, 3, 2]\n",
      "[2, 1, 3]\n",
      "[2, 3, 1]\n",
      "[3, 1, 2]\n",
      "[3, 2, 1]\n",
      "\n",
      "Number of permutations for ['A', 'B', 'C', 'D']: 24\n"
     ]
    }
   ],
   "source": [
    "def generate_permutations(arr):\n",
    "    if len(arr) <= 1:\n",
    "        yield arr\n",
    "    else:\n",
    "        for i in range(len(arr)):\n",
    "            rest = arr[:i] + arr[i+1:]\n",
    "            for perm in generate_permutations(rest):\n",
    "                yield [arr[i]] + perm\n",
    "\n",
    "def demo_factorial_time():\n",
    "    arr1 = [1, 2, 3]\n",
    "    arr2 = ['A', 'B', 'C', 'D']\n",
    "    print(f\"Permutations of {arr1}:\")\n",
    "    for perm in generate_permutations(arr1):\n",
    "        print(perm)\n",
    "    print(f\"\\nNumber of permutations for {arr2}: {len(list(generate_permutations(arr2)))}\")\n",
    "\n",
    "demo_factorial_time()"
   ]
  },
  {
   "cell_type": "markdown",
   "metadata": {},
   "source": [
    "Generating all permutations of an array results in factorial time complexity as it explores all possible arrangements."
   ]
  },
  {
   "cell_type": "code",
   "execution_count": null,
   "metadata": {},
   "outputs": [],
   "source": []
  }
 ],
 "metadata": {
  "kernelspec": {
   "display_name": "Python 3 (ipykernel)",
   "language": "python",
   "name": "python3"
  },
  "language_info": {
   "codemirror_mode": {
    "name": "ipython",
    "version": 3
   },
   "file_extension": ".py",
   "mimetype": "text/x-python",
   "name": "python",
   "nbconvert_exporter": "python",
   "pygments_lexer": "ipython3",
   "version": "3.9.13"
  }
 },
 "nbformat": 4,
 "nbformat_minor": 2
}
